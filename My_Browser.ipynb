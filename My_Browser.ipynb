{
 "cells": [
  {
   "cell_type": "code",
   "execution_count": 1,
   "id": "simplified-party",
   "metadata": {},
   "outputs": [
    {
     "ename": "RuntimeError",
     "evalue": "the sip module implements API v12.0 to v12.8 but the PyQt5.QtWebEngineWidgets module requires API v12.9",
     "output_type": "error",
     "traceback": [
      "\u001b[1;31m---------------------------------------------------------------------------\u001b[0m",
      "\u001b[1;31mRuntimeError\u001b[0m                              Traceback (most recent call last)",
      "\u001b[1;32m<ipython-input-1-144af5fd4e3f>\u001b[0m in \u001b[0;36m<module>\u001b[1;34m\u001b[0m\n\u001b[0;32m      2\u001b[0m \u001b[1;32mfrom\u001b[0m \u001b[0mPyQt5\u001b[0m\u001b[1;33m.\u001b[0m\u001b[0mQtCore\u001b[0m \u001b[1;32mimport\u001b[0m \u001b[1;33m*\u001b[0m\u001b[1;33m\u001b[0m\u001b[1;33m\u001b[0m\u001b[0m\n\u001b[0;32m      3\u001b[0m \u001b[1;32mfrom\u001b[0m \u001b[0mPyQt5\u001b[0m\u001b[1;33m.\u001b[0m\u001b[0mQtWidgets\u001b[0m \u001b[1;32mimport\u001b[0m \u001b[1;33m*\u001b[0m\u001b[1;33m\u001b[0m\u001b[1;33m\u001b[0m\u001b[0m\n\u001b[1;32m----> 4\u001b[1;33m \u001b[1;32mfrom\u001b[0m \u001b[0mPyQt5\u001b[0m\u001b[1;33m.\u001b[0m\u001b[0mQtWebEngineWidgets\u001b[0m \u001b[1;32mimport\u001b[0m \u001b[1;33m*\u001b[0m\u001b[1;33m\u001b[0m\u001b[1;33m\u001b[0m\u001b[0m\n\u001b[0m\u001b[0;32m      5\u001b[0m \u001b[1;33m\u001b[0m\u001b[0m\n\u001b[0;32m      6\u001b[0m \u001b[1;33m\u001b[0m\u001b[0m\n",
      "\u001b[1;31mRuntimeError\u001b[0m: the sip module implements API v12.0 to v12.8 but the PyQt5.QtWebEngineWidgets module requires API v12.9"
     ]
    }
   ],
   "source": [
    "import sys\n",
    "from PyQt5.QtCore import *\n",
    "from PyQt5.QtWidgets import *\n",
    "from PyQt5.QtWebEngineWidgets import *\n",
    "\n",
    "\n",
    "class MainWindow(QMainWindow):\n",
    "    def __init__(self):\n",
    "        super(MainWindow, self).__init__()\n",
    "        self.browser = QWebEngineView()\n",
    "        self.browser.setUrl(QUrl('http://google.com'))\n",
    "        self.setCentralWidget(self.browser)\n",
    "        self.showMaximized()\n",
    "\n",
    "        # navbar\n",
    "        navbar = QToolBar()\n",
    "        self.addToolBar(navbar)\n",
    "\n",
    "        back_btn = QAction('Back', self)\n",
    "        back_btn.triggered.connect(self.browser.back)\n",
    "        navbar.addAction(back_btn)\n",
    "\n",
    "        forward_btn = QAction('Forward', self)\n",
    "        forward_btn.triggered.connect(self.browser.forward)\n",
    "        navbar.addAction(forward_btn)\n",
    "\n",
    "        reload_btn = QAction('Reload', self)\n",
    "        reload_btn.triggered.connect(self.browser.reload)\n",
    "        navbar.addAction(reload_btn)\n",
    "\n",
    "        home_btn = QAction('Home', self)\n",
    "        home_btn.triggered.connect(self.navigate_home)\n",
    "        navbar.addAction(home_btn)\n",
    "\n",
    "        self.url_bar = QLineEdit()\n",
    "        self.url_bar.returnPressed.connect(self.navigate_to_url)\n",
    "        navbar.addWidget(self.url_bar)\n",
    "\n",
    "        self.browser.urlChanged.connect(self.update_url)\n",
    "\n",
    "    def navigate_home(self):\n",
    "        self.browser.setUrl(QUrl('https://www.google.com/'))\n",
    "\n",
    "    def navigate_to_url(self):\n",
    "        url = self.url_bar.text()\n",
    "        self.browser.setUrl(QUrl(url))\n",
    "\n",
    "    def update_url(self, q):\n",
    "        self.url_bar.setText(q.toString())\n",
    "\n",
    "\n",
    "app = QApplication(sys.argv)\n",
    "QApplication.setApplicationName('My Browser')\n",
    "window = MainWindow()\n",
    "app.exec_()"
   ]
  },
  {
   "cell_type": "code",
   "execution_count": null,
   "id": "professional-venezuela",
   "metadata": {},
   "outputs": [],
   "source": []
  }
 ],
 "metadata": {
  "kernelspec": {
   "display_name": "Python 3",
   "language": "python",
   "name": "python3"
  },
  "language_info": {
   "codemirror_mode": {
    "name": "ipython",
    "version": 3
   },
   "file_extension": ".py",
   "mimetype": "text/x-python",
   "name": "python",
   "nbconvert_exporter": "python",
   "pygments_lexer": "ipython3",
   "version": "3.9.2"
  }
 },
 "nbformat": 4,
 "nbformat_minor": 5
}
